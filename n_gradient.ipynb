{
 "cells": [
  {
   "cell_type": "code",
   "execution_count": 100,
   "metadata": {
    "colab": {},
    "colab_type": "code",
    "id": "HlvjD8lUia8e"
   },
   "outputs": [],
   "source": [
    "import numpy as np\n",
    "from sklearn import datasets\n",
    "import pandas as pd\n",
    "from sklearn import preprocessing as pp"
   ]
  },
  {
   "cell_type": "code",
   "execution_count": 3,
   "metadata": {
    "colab": {},
    "colab_type": "code",
    "id": "5X8irRmbia8k"
   },
   "outputs": [],
   "source": [
    "def step_grad(x,y,learning_rate,m): \n",
    "    slope_m =np.zeros(len(x[0]),int)\n",
    "    N = len(x)\n",
    "    M= len(x[0])\n",
    "    \n",
    "    for j in range(M):\n",
    "        for i in range(N):\n",
    "            slope_m[j]+=(y[i]-((x[i]*m).sum()))*x[i][j]\n",
    "        \n",
    "    m_slope = m - learning_rate*slope_m*(-2/N)\n",
    "    return m_slope"
   ]
  },
  {
   "cell_type": "code",
   "execution_count": 4,
   "metadata": {
    "colab": {},
    "colab_type": "code",
    "id": "qubQVGkhia8n"
   },
   "outputs": [],
   "source": [
    "def cost(x,y,m):\n",
    "    ans = ((y-x.dot(m))**2).mean()\n",
    "    return ans"
   ]
  },
  {
   "cell_type": "code",
   "execution_count": 83,
   "metadata": {
    "colab": {},
    "colab_type": "code",
    "id": "RHmTNeR8ia8q"
   },
   "outputs": [],
   "source": [
    "def gd(x,y,learning_rate,num_operations):\n",
    "    n=len(x[0])\n",
    "    m =np.zeros(n,int)\n",
    "    \n",
    "    for i in range(num_operations):\n",
    "        m = step_grad(x,y,learning_rate,m)\n",
    "\n",
    "        if (i%10 == 0) :\n",
    "            print(i,\"cost is \",cost(x,y,m))\n",
    "        \n",
    "    return m"
   ]
  },
  {
   "cell_type": "code",
   "execution_count": 194,
   "metadata": {
    "colab": {},
    "colab_type": "code",
    "id": "J5BolA6Yia8t"
   },
   "outputs": [],
   "source": [
    "def run():\n",
    "    data= np.loadtxt(\"training_ccpp_x_y_train.csv\",delimiter = \",\")\n",
    "#     data = pp.scale(data)\n",
    "    x = data[:,0:-1]\n",
    "    x_train = pp.scale(x)\n",
    "    df = pd.DataFrame(x_train)\n",
    "    y = data[:,-1]\n",
    "    df['ones']=1\n",
    "#     print(df)\n",
    "    x_train = df.to_numpy()\n",
    "    \n",
    "#     y_train = pp.scale(y)\n",
    "#     print(y)\n",
    "\n",
    "    learning_rate =0.37\n",
    "    num_operations =200\n",
    "\n",
    "    m = gd(x_train,y,learning_rate,num_operations)\n",
    "\n",
    "    x_pred = np.loadtxt(\"test_ccpp_x_test.csv\", delimiter =\",\")\n",
    "    x_p=pp.scale(x_pred) \n",
    "    bf = pd.DataFrame(x_p)\n",
    "    bf['ones'] = 1\n",
    "    \n",
    "    x__p = bf.to_numpy()\n",
    "\n",
    "#     print(x__p)\n",
    "\n",
    "    y_pred=np.zeros(len(x__p),int)\n",
    "    it=len(y_pred)\n",
    "    arr=np.zeros(len(m),int)\n",
    "#     print(m)\n",
    "    for i in range(it):\n",
    "        arr =(m*(x__p[i]))\n",
    "        y_pred[i] = arr.sum()\n",
    "\n",
    "    np.savetxt(\"test_check.csv\", y_pred, delimiter =',', fmt='%1.5f')\n",
    "    print(y_pred)\n",
    "\n",
    "        "
   ]
  },
  {
   "cell_type": "code",
   "execution_count": 193,
   "metadata": {
    "colab": {},
    "colab_type": "code",
    "id": "41a0_TJkia81"
   },
   "outputs": [
    {
     "name": "stdout",
     "output_type": "stream",
     "text": [
      "0 cost is  14215.386530437618\n",
      "10 cost is  25.15548956213042\n",
      "20 cost is  24.839608657560785\n",
      "30 cost is  24.54688967675547\n",
      "40 cost is  24.307522924599745\n",
      "50 cost is  24.11425886569706\n",
      "60 cost is  23.942520542841716\n",
      "70 cost is  23.791086080098307\n",
      "80 cost is  23.650642228613563\n",
      "90 cost is  23.52188052232691\n",
      "100 cost is  23.406779084241354\n",
      "110 cost is  23.305162173550514\n",
      "120 cost is  23.2056683320596\n",
      "130 cost is  23.112407486936508\n",
      "140 cost is  23.02698834726078\n",
      "150 cost is  22.94576663731077\n",
      "160 cost is  22.865588501984462\n",
      "170 cost is  22.791944130306387\n",
      "180 cost is  22.721417445549697\n",
      "190 cost is  22.65716979873678\n",
      "[471 472 432 ... 439 454 448]\n"
     ]
    }
   ],
   "source": [
    "run()"
   ]
  },
  {
   "cell_type": "code",
   "execution_count": 99,
   "metadata": {
    "colab": {},
    "colab_type": "code",
    "id": "XZpdpE5Wia84"
   },
   "outputs": [
    {
     "data": {
      "text/plain": [
       "'C:\\\\Users\\\\KSHITIJ ANAND\\\\Downloads'"
      ]
     },
     "execution_count": 99,
     "metadata": {},
     "output_type": "execute_result"
    }
   ],
   "source": [
    "pwd"
   ]
  }
 ],
 "metadata": {
  "colab": {
   "name": "n_gradient.ipynb",
   "provenance": []
  },
  "kernelspec": {
   "display_name": "Python 3",
   "language": "python",
   "name": "python3"
  },
  "language_info": {
   "codemirror_mode": {
    "name": "ipython",
    "version": 3
   },
   "file_extension": ".py",
   "mimetype": "text/x-python",
   "name": "python",
   "nbconvert_exporter": "python",
   "pygments_lexer": "ipython3",
   "version": "3.7.6"
  }
 },
 "nbformat": 4,
 "nbformat_minor": 1
}
