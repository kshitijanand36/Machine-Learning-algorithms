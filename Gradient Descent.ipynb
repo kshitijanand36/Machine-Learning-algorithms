{
 "cells": [
  {
   "cell_type": "code",
   "execution_count": 95,
   "metadata": {},
   "outputs": [],
   "source": [
    "import numpy as np\n",
    "from sklearn import datasets\n",
    "boston = datasets.load_boston()"
   ]
  },
  {
   "cell_type": "code",
   "execution_count": 97,
   "metadata": {},
   "outputs": [],
   "source": [
    "def step_grad(x,y,learning_rate,m,c): \n",
    "#     slope_m =(x*y).mean() - m*((x**2).mean())-c*(x.mean())\n",
    "#     slope_m*=-2\n",
    "    \n",
    "#     slope_c = y.mean() - m*(x.mean()) -c\n",
    "#     slope_c*=-2\n",
    "\n",
    "    slope_m,slope_c=0,0\n",
    "    N = len(x)\n",
    "\n",
    "    for i in range(N):\n",
    "        m= m - learning_rate*(-2/N)*(y[i] - m*x[i]-c)*x[i]\n",
    "        slope_c+=(-2/N)*(y[i] - m*x[i]-c)\n",
    "        \n",
    "\n",
    "    m_slope= m \n",
    "    c_slope = c - learning_rate*slope_c\n",
    "    \n",
    "    return m_slope,c_slope"
   ]
  },
  {
   "cell_type": "code",
   "execution_count": 98,
   "metadata": {},
   "outputs": [],
   "source": [
    "def cost(x,y,m,c):\n",
    "    ans = ((y-m*x -c)**2).mean()\n",
    "    return ans"
   ]
  },
  {
   "cell_type": "code",
   "execution_count": 108,
   "metadata": {},
   "outputs": [],
   "source": [
    "def gd(x,y,learning_rate,num_operations):\n",
    "    m =0\n",
    "    c=0\n",
    "    for i in range(num_operations):\n",
    "        m,c = step_grad(x,y,learning_rate,m,c)\n",
    "#         print(i,\"cost is \",cost(x,y,m,c))\n",
    "        \n",
    "    return m,c"
   ]
  },
  {
   "cell_type": "code",
   "execution_count": 109,
   "metadata": {},
   "outputs": [],
   "source": [
    "def run():\n",
    "    data = np.loadtxt(\"data1.csv\",delimiter = \",\")\n",
    "    x = data[:,0]\n",
    "    y = data[:,1]\n",
    "    learning_rate = 0.0001\n",
    "    num_operations =10\n",
    "    m = gd(x,y,learning_rate,num_operations)\n",
    "#     print(m,c)\n",
    "    y_pred = \n",
    "#     print(data.shape)"
   ]
  },
  {
   "cell_type": "code",
   "execution_count": 110,
   "metadata": {},
   "outputs": [
    {
     "name": "stdout",
     "output_type": "stream",
     "text": [
      "1.4761160195128813 0.029422870313911928\n"
     ]
    }
   ],
   "source": [
    "\n",
    "run()\n",
    "\n",
    "# print(data)"
   ]
  },
  {
   "cell_type": "code",
   "execution_count": 111,
   "metadata": {},
   "outputs": [
    {
     "data": {
      "text/plain": [
       "'C:\\\\Users\\\\KSHITIJ ANAND\\\\Downloads'"
      ]
     },
     "execution_count": 111,
     "metadata": {},
     "output_type": "execute_result"
    }
   ],
   "source": [
    "pwd"
   ]
  }
 ],
 "metadata": {
  "kernelspec": {
   "display_name": "Python 3",
   "language": "python",
   "name": "python3"
  },
  "language_info": {
   "codemirror_mode": {
    "name": "ipython",
    "version": 3
   },
   "file_extension": ".py",
   "mimetype": "text/x-python",
   "name": "python",
   "nbconvert_exporter": "python",
   "pygments_lexer": "ipython3",
   "version": "3.7.6"
  }
 },
 "nbformat": 4,
 "nbformat_minor": 4
}
