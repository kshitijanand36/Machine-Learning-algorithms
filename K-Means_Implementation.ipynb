{
 "cells": [
  {
   "cell_type": "code",
   "execution_count": 2,
   "metadata": {},
   "outputs": [],
   "source": [
    "import numpy as np\n",
    "import matplotlib.pyplot as plt"
   ]
  },
  {
   "cell_type": "code",
   "execution_count": 3,
   "metadata": {},
   "outputs": [],
   "source": [
    "x = np.array([[1 , 2] , [1.5 , 1.8] , [5 , 8] , [8 , 8] ,  [1 , 0.6] , [9 , 11]])"
   ]
  },
  {
   "cell_type": "code",
   "execution_count": 4,
   "metadata": {},
   "outputs": [
    {
     "data": {
      "image/png": "[encoded data removed]",
      "text/plain": [
       "<Figure size 432x288 with 1 Axes>"
      ]
     },
     "metadata": {
      "needs_background": "light"
     },
     "output_type": "display_data"
    }
   ],
   "source": [
    "plt.scatter(x[: , 0] , x[ : , 1])\n",
    "plt.show()"
   ]
  },
  {
   "cell_type": "code",
   "execution_count": 105,
   "metadata": {},
   "outputs": [],
   "source": [
    "class K_means:\n",
    "    \n",
    "    def __init__(self , k = 2 , max_iter = 100):\n",
    "        \n",
    "        self.k = k\n",
    "        self.max_iter = max_iter\n",
    "        \n",
    "\n",
    "    def fit(self , data):\n",
    "    \n",
    "        #first randomly assign mean values\n",
    "        #we will use first k values as our mean values\n",
    "        #(Here k is the no. of clusters we wanna make)\n",
    "\n",
    "        self.means = []\n",
    "\n",
    "        for i in range(self.k):\n",
    "\n",
    "            self.means.append(data[i])\n",
    "\n",
    "        #now we willl run our loop max_iter times\n",
    "\n",
    "\n",
    "        for i in range(self.max_iter):\n",
    "\n",
    "            #in each iteration we will do the following things:\n",
    "            #1) assign the data points to the clusters they belong to\n",
    "            #2) Find the new mean values\n",
    "\n",
    "\n",
    "            #each time(iteration) we will make a new clusters\n",
    "\n",
    "            clusters = []\n",
    "\n",
    "            for j in range(self.k):\n",
    "\n",
    "                #as there will be k clusters in the cluster array\n",
    "                clusters.append([])\n",
    "\n",
    "            for points in data:\n",
    "\n",
    "                #first find distance to all mean values\n",
    "                #Find the min distance\n",
    "\n",
    "                distances = [((points - m)**2).sum()  for m in self.means]\n",
    "\n",
    "                min_distance = min(distances)\n",
    "\n",
    "                my_mean = distances.index(min_distance)\n",
    "                #now add that point to the curr_mean\n",
    "                clusters[my_mean].append(points)\n",
    "\n",
    "            change = False\n",
    "            for j in range(self.k):\n",
    "\n",
    "                new_mean = np.average(clusters[j] , axis = 0)\n",
    "\n",
    "\n",
    "                #Now a check to break our loop in_case no change is happening \n",
    "                if new_mean is not  self.means[j]:\n",
    "                    change = True\n",
    "                self.means[j] = new_mean\n",
    "\n",
    "            if not change:\n",
    "\n",
    "                break\n",
    "                \n",
    "                \n",
    "    def predict(self , test_data ):\n",
    "    \n",
    "        predictions = []\n",
    "\n",
    "        for points in test_data:\n",
    "\n",
    "            distances = [((points - m)**2).sum()  for m in self.means]\n",
    "\n",
    "            min_distance = min(distances)\n",
    "\n",
    "            my_mean = distances.index(min_distance)\n",
    "            predictions.append(my_mean)\n",
    "\n",
    "\n",
    "        return predictions\n",
    "        \n",
    "\n",
    "\n",
    "        \n",
    "        "
   ]
  },
  {
   "cell_type": "code",
   "execution_count": 110,
   "metadata": {},
   "outputs": [],
   "source": [
    "func = K_means()\n",
    "\n",
    "func.fit(x)"
   ]
  },
  {
   "cell_type": "code",
   "execution_count": 111,
   "metadata": {},
   "outputs": [
    {
     "data": {
      "text/plain": [
       "[0, 0, 1, 1, 0, 1]"
      ]
     },
     "execution_count": 111,
     "metadata": {},
     "output_type": "execute_result"
    }
   ],
   "source": [
    "func.predict(x)"
   ]
  },
  {
   "cell_type": "code",
   "execution_count": 112,
   "metadata": {},
   "outputs": [
    {
     "data": {
      "text/plain": [
       "[array([1.16666667, 1.46666667]), array([7.33333333, 9.        ])]"
      ]
     },
     "execution_count": 112,
     "metadata": {},
     "output_type": "execute_result"
    }
   ],
   "source": [
    "func.means"
   ]
  }
 ],
 "metadata": {
  "kernelspec": {
   "display_name": "Python 3",
   "language": "python",
   "name": "python3"
  },
  "language_info": {
   "codemirror_mode": {
    "name": "ipython",
    "version": 3
   },
   "file_extension": ".py",
   "mimetype": "text/x-python",
   "name": "python",
   "nbconvert_exporter": "python",
   "pygments_lexer": "ipython3",
   "version": "3.7.6"
  }
 },
 "nbformat": 4,
 "nbformat_minor": 4
}
