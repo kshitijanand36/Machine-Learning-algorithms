{
 "cells": [
  {
   "cell_type": "code",
   "execution_count": 1,
   "metadata": {},
   "outputs": [],
   "source": [
    "import numpy as np"
   ]
  },
  {
   "cell_type": "code",
   "execution_count": 2,
   "metadata": {},
   "outputs": [],
   "source": [
    "def fit(x_train,y_train):\n",
    "    res = {}\n",
    "    classes = set(y_train)\n",
    "    res[\"total_data\"] = len(y_train)\n",
    "    for curr_class in classes:\n",
    "        res[curr_class]= {}\n",
    "        num_features = x_train.shape[1]\n",
    "        curr_class_rows = (y_train==curr_class)\n",
    "        x_train_curr = x_train[curr_class_rows]\n",
    "        y_train_curr = y_train[curr_class_rows]\n",
    "        res[curr_class][\"total_count\"] =len(y_train_curr)\n",
    "#         res['total_data']+=len(y_train_curr)\n",
    "        \n",
    "        for j in range(1,num_features+1):\n",
    "                res[curr_class][j] = {}\n",
    "                values = set(x_train[:,j-1])\n",
    "                for curr_val in values:\n",
    "                    res[curr_class][j][curr_val] = (x_train_curr[:,j-1]==curr_val).sum()\n",
    "                    \n",
    "    return res"
   ]
  },
  {
   "cell_type": "code",
   "execution_count": 36,
   "metadata": {},
   "outputs": [],
   "source": [
    "def probability(curr_class,dictionary,x):\n",
    "    num_features = len(dictionary[curr_class].keys()) -1\n",
    "    prob  = np.log(dictionary[curr_class]['total_count'])- np.log(dictionary['total_data'])\n",
    "    \n",
    "    for j in range(1,num_features +1):\n",
    "        prob += np.log(dictionary[curr_class][j][x[j-1]] + 1) - np.log(dictionary[curr_class][\"total_count\"]+ len(dictionary[curr_class][j].keys()))\n",
    "    return prob"
   ]
  },
  {
   "cell_type": "code",
   "execution_count": 26,
   "metadata": {},
   "outputs": [],
   "source": [
    "def predictSinglePoint(x,dictionary):\n",
    "    max_prob = 0 \n",
    "    max_class = 0\n",
    "    first_run= True\n",
    "    total_classes = dictionary.keys()\n",
    "    \n",
    "    for curr_class in total_classes:\n",
    "        if curr_class== 'total_data':\n",
    "            continue\n",
    "        prob = probability(curr_class,dictionary,x)\n",
    "        if(first_run or prob>max_prob):\n",
    "            max_prob = prob\n",
    "            max_class = curr_class\n",
    "        first_run = False\n",
    "\n",
    "    return max_class"
   ]
  },
  {
   "cell_type": "code",
   "execution_count": 6,
   "metadata": {},
   "outputs": [],
   "source": [
    "def predict(x_test,dictionary):\n",
    "    y_test = np.zeros(len(x_test),int)\n",
    "    for i in range(len(x_test)):\n",
    "        y_test[i] = predictSinglePoint(x_test[i],dictionary)\n",
    "\n",
    "    return y_test"
   ]
  },
  {
   "cell_type": "code",
   "execution_count": 7,
   "metadata": {},
   "outputs": [],
   "source": [
    "def make_labelled(column):\n",
    "    second_limit = column.mean()\n",
    "    first_limit = (1/2) * second_limit\n",
    "    third_limit = 1.5 * second_limit\n",
    "    for i in range(len(column)):\n",
    "        if column[i]<first_limit:\n",
    "            column[i] = 0\n",
    "        elif column[i]<second_limit:\n",
    "            column[i] = 1\n",
    "        elif column[i]<third_limit:\n",
    "            column[i] = 2\n",
    "        else:\n",
    "            column[i] = 3\n",
    "    return column"
   ]
  },
  {
   "cell_type": "code",
   "execution_count": 43,
   "metadata": {},
   "outputs": [
    {
     "name": "stdout",
     "output_type": "stream",
     "text": [
      "[2 1 0 2 0 2 0 1 1 1 1 1 1 1 1 0 1 1 0 0 2 1 0 0 2 0 0 1 1 0 2 1 0 2 2 1 0\n",
      " 1 1 1 2 0 2 0 0 1 2 2]\n"
     ]
    }
   ],
   "source": [
    "from sklearn import datasets\n",
    "iris = datasets.load_iris()\n",
    "x = iris.data\n",
    "y = iris.target\n",
    "\n",
    "for i in range(x.shape[-1]):\n",
    "    x[:,i] = make_labelled(x[:,i])\n",
    "\n",
    "from sklearn import model_selection\n",
    "\n",
    "x_train,x_test,y_train,y_test = model_selection.train_test_split(x,y,random_state = 0,test_size = 0.32)\n",
    "\n",
    "dictionary = fit(x_train,y_train)\n",
    "y_pred = predict(x_test,dictionary)\n",
    "dictionary['total_data']\n",
    "# print(dictionary)\n",
    "print(y_pred)"
   ]
  },
  {
   "cell_type": "code",
   "execution_count": 44,
   "metadata": {},
   "outputs": [
    {
     "name": "stdout",
     "output_type": "stream",
     "text": [
      "              precision    recall  f1-score   support\n",
      "\n",
      "           0       1.00      1.00      1.00        16\n",
      "           1       0.95      1.00      0.97        19\n",
      "           2       1.00      0.92      0.96        13\n",
      "\n",
      "    accuracy                           0.98        48\n",
      "   macro avg       0.98      0.97      0.98        48\n",
      "weighted avg       0.98      0.98      0.98        48\n",
      "\n",
      "[[16  0  0]\n",
      " [ 0 19  0]\n",
      " [ 0  1 12]]\n"
     ]
    }
   ],
   "source": [
    "from sklearn.metrics import classification_report , confusion_matrix\n",
    "print(classification_report(y_test,y_pred))\n",
    "print(confusion_matrix(y_test,y_pred))"
   ]
  },
  {
   "cell_type": "code",
   "execution_count": 47,
   "metadata": {},
   "outputs": [
    {
     "name": "stdout",
     "output_type": "stream",
     "text": [
      "              precision    recall  f1-score   support\n",
      "\n",
      "           0       1.00      0.81      0.90        16\n",
      "           1       0.40      0.11      0.17        19\n",
      "           2       0.43      1.00      0.60        13\n",
      "\n",
      "    accuracy                           0.58        48\n",
      "   macro avg       0.61      0.64      0.56        48\n",
      "weighted avg       0.61      0.58      0.53        48\n",
      "\n",
      "[[13  3  0]\n",
      " [ 0  2 17]\n",
      " [ 0  0 13]]\n"
     ]
    }
   ],
   "source": [
    "from sklearn.naive_bayes import MultinomialNB\n",
    "clf = MultinomialNB()\n",
    "clf.fit(x_train,y_train)\n",
    "y_pred = clf.predict(x_test)\n",
    "print(classification_report(y_test,y_pred))\n",
    "print(confusion_matrix(y_test,y_pred))"
   ]
  }
 ],
 "metadata": {
  "kernelspec": {
   "display_name": "Python 3",
   "language": "python",
   "name": "python3"
  },
  "language_info": {
   "codemirror_mode": {
    "name": "ipython",
    "version": 3
   },
   "file_extension": ".py",
   "mimetype": "text/x-python",
   "name": "python",
   "nbconvert_exporter": "python",
   "pygments_lexer": "ipython3",
   "version": "3.7.6"
  }
 },
 "nbformat": 4,
 "nbformat_minor": 4
}
