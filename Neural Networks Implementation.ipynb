{
 "cells": [
  {
   "cell_type": "code",
   "execution_count": 1,
   "metadata": {},
   "outputs": [],
   "source": [
    "import numpy as np"
   ]
  },
  {
   "cell_type": "code",
   "execution_count": 55,
   "metadata": {},
   "outputs": [],
   "source": [
    "x = np.array([[0,0],[0,1],[1,0],[1,1]])\n",
    "y = np.array([[0,1,1,0]]).T\n"
   ]
  },
  {
   "cell_type": "code",
   "execution_count": 6,
   "metadata": {},
   "outputs": [
    {
     "data": {
      "text/plain": [
       "((4, 1), (4, 2))"
      ]
     },
     "execution_count": 6,
     "metadata": {},
     "output_type": "execute_result"
    }
   ],
   "source": [
    "y.shape , x.shape"
   ]
  },
  {
   "cell_type": "code",
   "execution_count": 8,
   "metadata": {},
   "outputs": [],
   "source": [
    "def sigmoid(z):\n",
    "    return 1/(1+ np.exp(-z))"
   ]
  },
  {
   "cell_type": "code",
   "execution_count": 25,
   "metadata": {},
   "outputs": [],
   "source": [
    "def derivativeSig(z):\n",
    "    return sigmoid(z)*(1-sigmoid(z)) "
   ]
  },
  {
   "cell_type": "code",
   "execution_count": 49,
   "metadata": {},
   "outputs": [],
   "source": [
    "#To make it lie between -1 and 1 we have multiplied the random no.(which wa b/w 0 &1) by 2\n",
    "#and subtracted 1 from it \n",
    "\n",
    "#without hidden layer\n",
    "weights = 2*np.random.random((2,1)) - 1\n",
    "weights\n",
    "bias = 2*np.random.random(1) - 1\n",
    "bias\n",
    "lr = 0.3\n"
   ]
  },
  {
   "cell_type": "code",
   "execution_count": 47,
   "metadata": {},
   "outputs": [
    {
     "data": {
      "text/plain": [
       "array([[3.81437133e-05],\n",
       "       [3.07549279e-02],\n",
       "       [3.07549279e-02],\n",
       "       [9.63497071e-01]])"
      ]
     },
     "execution_count": 47,
     "metadata": {},
     "output_type": "execute_result"
    }
   ],
   "source": [
    "#We have done dot so as to get the matrix multiplication of the 2 matrix\n",
    "for i in range(10000):\n",
    "    output = sigmoid(np.dot(x,weights) + bias)\n",
    "    output\n",
    "\n",
    "    first_term = output - y\n",
    "    second_term = derivativeSig(np.dot(x,weights) + bias)\n",
    "    first_two = first_term * second_term\n",
    "    first_two.shape\n",
    "\n",
    "    last_layer_input = np.dot(x,weights) + bias\n",
    "    changes = np.array([[0.0],[0.0]])\n",
    "    bias_change = np.array([0.0])\n",
    "\n",
    "    for i in range(2):\n",
    "        for j in range(4):\n",
    "            changes[i][0] += first_two[j][0]* x[j][i]\n",
    "\n",
    "\n",
    "    for j in range(4):\n",
    "        bias_change += first_two[j][0]* 1\n",
    "\n",
    "    weights -= lr*changes\n",
    "    bias -= lr*bias_change\n",
    "    output = sigmoid(np.dot(x,weights) + bias)\n",
    "weights\n",
    "output\n",
    "# last_layer_input.shapep9999"
   ]
  },
  {
   "cell_type": "code",
   "execution_count": 50,
   "metadata": {},
   "outputs": [
    {
     "data": {
      "text/plain": [
       "array([[3.81713499e-05],\n",
       "       [3.07621035e-02],\n",
       "       [3.07621035e-02],\n",
       "       [9.63488527e-01]])"
      ]
     },
     "execution_count": 50,
     "metadata": {},
     "output_type": "execute_result"
    }
   ],
   "source": [
    "#A bit more optimized version of the above code\n",
    "#We have done the matrix multiplication of the transpose of the input and weights\n",
    "for i in range(10000):\n",
    "    output = sigmoid(np.dot(x,weights) + bias)\n",
    "    output\n",
    "\n",
    "    first_term = output - y\n",
    "    second_term = derivativeSig(np.dot(x,weights) + bias)\n",
    "    first_two = first_term * second_term\n",
    "    first_two.shape\n",
    "\n",
    "    last_layer_input = np.dot(x,weights) + bias\n",
    "    changes = np.dot(x.T,first_two)\n",
    "    bias_change = np.sum(first_two)\n",
    "\n",
    "    weights -= lr*changes\n",
    "    bias -= lr*bias_change\n",
    "output = sigmoid(np.dot(x,weights) + bias)\n",
    "weights\n",
    "output"
   ]
  },
  {
   "cell_type": "code",
   "execution_count": 74,
   "metadata": {},
   "outputs": [],
   "source": [
    "#with hidden layers\n",
    "wh = 2*np.random.random((2,2)) -1\n",
    "bh = 2*np.random.random((1,2)) - 1\n",
    "b0 = 2*np.random.random((1,1)) - 1\n",
    "w0 = 2*np.random.random((2,1)) - 1\n",
    "lr = 0.4"
   ]
  },
  {
   "cell_type": "code",
   "execution_count": 76,
   "metadata": {},
   "outputs": [
    {
     "data": {
      "text/plain": [
       "array([[-9.27691087],\n",
       "       [ 9.76208846]])"
      ]
     },
     "execution_count": 76,
     "metadata": {},
     "output_type": "execute_result"
    }
   ],
   "source": [
    "#NOw do the above things 2 times\n",
    "for i in range(7000):\n",
    "    output0 = x\n",
    "    inputHidden = np.dot(output0,wh) + bh\n",
    "    outputHidden = sigmoid(inputHidden)\n",
    "    inputForOutputLayer = np.dot(outputHidden,w0) + b0\n",
    "    output = sigmoid(inputForOutputLayer)\n",
    "    first_term_output_layer = output - y\n",
    "    second_term_output_layer = derivativeSig(inputForOutputLayer)\n",
    "    first_two = first_term_output_layer * second_term_output_layer\n",
    "\n",
    "    first_term_hidden_layer = np.dot(first_two,w0.T)\n",
    "    second_term_hidden_layer = derivativeSig(inputHidden)\n",
    "    first_two_hidden_layer = first_term_hidden_layer * second_term_hidden_layer\n",
    "\n",
    "    changes_output = np.dot(outputHidden.T,first_two)\n",
    "    bias_change_output = np.sum(first_two, axis =0 , keepdims= True)\n",
    "\n",
    "    changes_hidden = np.dot(output0.T,first_two_hidden_layer)\n",
    "    bias_change_hidden = np.sum(first_two_hidden_layer , axis = 0, keepdims = True)\n",
    "\n",
    "    w0 -= changes_output*lr\n",
    "    b0 -= bias_change_output*lr\n",
    "    wh -= changes_hidden*lr\n",
    "    bh -= bias_change_hidden*lr\n",
    "\n",
    "output0 = x\n",
    "inputHidden = np.dot(output0,wh) + bh\n",
    "outputHidden = sigmoid(inputHidden)\n",
    "inputForOutputLayer = np.dot(outputHidden,w0) + b0\n",
    "output = sigmoid(inputForOutputLayer)\n",
    "output\n",
    "w0\n"
   ]
  }
 ],
 "metadata": {
  "kernelspec": {
   "display_name": "Python 3",
   "language": "python",
   "name": "python3"
  },
  "language_info": {
   "codemirror_mode": {
    "name": "ipython",
    "version": 3
   },
   "file_extension": ".py",
   "mimetype": "text/x-python",
   "name": "python",
   "nbconvert_exporter": "python",
   "pygments_lexer": "ipython3",
   "version": "3.7.6"
  }
 },
 "nbformat": 4,
 "nbformat_minor": 4
}
