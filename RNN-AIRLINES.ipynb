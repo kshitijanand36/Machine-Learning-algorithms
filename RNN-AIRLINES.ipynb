{
 "cells": [
  {
   "cell_type": "code",
   "execution_count": 31,
   "metadata": {},
   "outputs": [],
   "source": [
    "from pandas import read_csv\n",
    "import numpy as np"
   ]
  },
  {
   "cell_type": "code",
   "execution_count": 14,
   "metadata": {},
   "outputs": [],
   "source": [
    "df  = read_csv(\"international-airline-passengers.csv\" , usecols = [1])\n",
    "#usecols is done to get rid of the months detail as we don't really need it"
   ]
  },
  {
   "cell_type": "code",
   "execution_count": 15,
   "metadata": {},
   "outputs": [
    {
     "data": {
      "text/html": [
       "<div>\n",
       "<style scoped>\n",
       "    .dataframe tbody tr th:only-of-type {\n",
       "        vertical-align: middle;\n",
       "    }\n",
       "\n",
       "    .dataframe tbody tr th {\n",
       "        vertical-align: top;\n",
       "    }\n",
       "\n",
       "    .dataframe thead th {\n",
       "        text-align: right;\n",
       "    }\n",
       "</style>\n",
       "<table border=\"1\" class=\"dataframe\">\n",
       "  <thead>\n",
       "    <tr style=\"text-align: right;\">\n",
       "      <th></th>\n",
       "      <th>International airline passengers: monthly totals in thousands. Jan 49 ? Dec 60</th>\n",
       "    </tr>\n",
       "  </thead>\n",
       "  <tbody>\n",
       "    <tr>\n",
       "      <th>0</th>\n",
       "      <td>112</td>\n",
       "    </tr>\n",
       "    <tr>\n",
       "      <th>1</th>\n",
       "      <td>118</td>\n",
       "    </tr>\n",
       "    <tr>\n",
       "      <th>2</th>\n",
       "      <td>132</td>\n",
       "    </tr>\n",
       "    <tr>\n",
       "      <th>3</th>\n",
       "      <td>129</td>\n",
       "    </tr>\n",
       "    <tr>\n",
       "      <th>4</th>\n",
       "      <td>121</td>\n",
       "    </tr>\n",
       "    <tr>\n",
       "      <th>...</th>\n",
       "      <td>...</td>\n",
       "    </tr>\n",
       "    <tr>\n",
       "      <th>139</th>\n",
       "      <td>606</td>\n",
       "    </tr>\n",
       "    <tr>\n",
       "      <th>140</th>\n",
       "      <td>508</td>\n",
       "    </tr>\n",
       "    <tr>\n",
       "      <th>141</th>\n",
       "      <td>461</td>\n",
       "    </tr>\n",
       "    <tr>\n",
       "      <th>142</th>\n",
       "      <td>390</td>\n",
       "    </tr>\n",
       "    <tr>\n",
       "      <th>143</th>\n",
       "      <td>432</td>\n",
       "    </tr>\n",
       "  </tbody>\n",
       "</table>\n",
       "<p>144 rows × 1 columns</p>\n",
       "</div>"
      ],
      "text/plain": [
       "     International airline passengers: monthly totals in thousands. Jan 49 ? Dec 60\n",
       "0                                                  112                             \n",
       "1                                                  118                             \n",
       "2                                                  132                             \n",
       "3                                                  129                             \n",
       "4                                                  121                             \n",
       "..                                                 ...                             \n",
       "139                                                606                             \n",
       "140                                                508                             \n",
       "141                                                461                             \n",
       "142                                                390                             \n",
       "143                                                432                             \n",
       "\n",
       "[144 rows x 1 columns]"
      ]
     },
     "execution_count": 15,
     "metadata": {},
     "output_type": "execute_result"
    }
   ],
   "source": [
    "df"
   ]
  },
  {
   "cell_type": "code",
   "execution_count": 16,
   "metadata": {},
   "outputs": [],
   "source": [
    "values = df.values.astype(\"float32\")"
   ]
  },
  {
   "cell_type": "code",
   "execution_count": 20,
   "metadata": {},
   "outputs": [
    {
     "data": {
      "text/plain": [
       "(numpy.ndarray, (144, 1))"
      ]
     },
     "execution_count": 20,
     "metadata": {},
     "output_type": "execute_result"
    }
   ],
   "source": [
    "type(values) , values.shape"
   ]
  },
  {
   "cell_type": "code",
   "execution_count": 24,
   "metadata": {},
   "outputs": [
    {
     "data": {
      "text/plain": [
       "48"
      ]
     },
     "execution_count": 24,
     "metadata": {},
     "output_type": "execute_result"
    }
   ],
   "source": [
    "train_size = int(values.shape[0] *0.67)\n",
    "\n",
    "test_size = values.shape[0] - train_size\n",
    "test_size"
   ]
  },
  {
   "cell_type": "code",
   "execution_count": 131,
   "metadata": {},
   "outputs": [],
   "source": [
    "train = values[0:train_size]"
   ]
  },
  {
   "cell_type": "code",
   "execution_count": 132,
   "metadata": {},
   "outputs": [],
   "source": [
    "test = values[train_size: ]"
   ]
  },
  {
   "cell_type": "code",
   "execution_count": 27,
   "metadata": {},
   "outputs": [],
   "source": [
    "from sklearn.preprocessing import MinMaxScaler"
   ]
  },
  {
   "cell_type": "code",
   "execution_count": 118,
   "metadata": {},
   "outputs": [],
   "source": [
    "scaler = MinMaxScaler(feature_range = (0,1))"
   ]
  },
  {
   "cell_type": "code",
   "execution_count": 133,
   "metadata": {},
   "outputs": [],
   "source": [
    "train = scaler.fit_transform(train)\n",
    "test = scaler.transform(test)"
   ]
  },
  {
   "cell_type": "code",
   "execution_count": 134,
   "metadata": {},
   "outputs": [],
   "source": [
    "def create_dataset(data , k):\n",
    "    dataX , dataY = [] ,[]\n",
    "    for i  in range(data.shape[0] - k):\n",
    "        #x is the data which I will store in the datax\n",
    "        x = data[i:i+k , 0]\n",
    "        y = data[i+k , 0]\n",
    "        \n",
    "        dataX.append(x)\n",
    "        dataY.append(y)\n",
    "        \n",
    "        \n",
    "    return np.array(dataX) , np.array(dataY)\n",
    "        "
   ]
  },
  {
   "cell_type": "code",
   "execution_count": 135,
   "metadata": {},
   "outputs": [],
   "source": [
    "look_back = 12\n",
    "trainX,trainY = create_dataset(train , look_back)\n",
    "testX , testY = create_dataset(test , look_back)"
   ]
  },
  {
   "cell_type": "code",
   "execution_count": 136,
   "metadata": {},
   "outputs": [],
   "source": [
    "trainX = np.reshape( trainX , (trainX.shape[0] , trainX.shape[1] , 1))\n",
    "\n",
    "testX = np.reshape( testX , (testX.shape[0] , testX.shape[1] , 1))"
   ]
  },
  {
   "cell_type": "code",
   "execution_count": 44,
   "metadata": {},
   "outputs": [],
   "source": [
    "from keras.models import Sequential\n",
    "from keras.layers import SimpleRNN , Dense"
   ]
  },
  {
   "cell_type": "code",
   "execution_count": 137,
   "metadata": {
    "scrolled": true
   },
   "outputs": [
    {
     "name": "stdout",
     "output_type": "stream",
     "text": [
      "Epoch 1/100\n",
      "84/84 [==============================] - 2s 23ms/step - loss: 0.2132\n",
      "Epoch 2/100\n",
      "84/84 [==============================] - 0s 6ms/step - loss: 0.0643\n",
      "Epoch 3/100\n",
      "84/84 [==============================] - 0s 5ms/step - loss: 0.0618\n",
      "Epoch 4/100\n",
      "84/84 [==============================] - 0s 5ms/step - loss: 0.0591\n",
      "Epoch 5/100\n",
      "84/84 [==============================] - 0s 5ms/step - loss: 0.0569\n",
      "Epoch 6/100\n",
      "84/84 [==============================] - 0s 5ms/step - loss: 0.0536\n",
      "Epoch 7/100\n",
      "84/84 [==============================] - 0s 5ms/step - loss: 0.0502\n",
      "Epoch 8/100\n",
      "84/84 [==============================] - 0s 5ms/step - loss: 0.0440\n",
      "Epoch 9/100\n",
      "84/84 [==============================] - 0s 5ms/step - loss: 0.0348\n",
      "Epoch 10/100\n",
      "84/84 [==============================] - 0s 6ms/step - loss: 0.0253\n",
      "Epoch 11/100\n",
      "84/84 [==============================] - 0s 6ms/step - loss: 0.0217\n",
      "Epoch 12/100\n",
      "84/84 [==============================] - 0s 6ms/step - loss: 0.0209\n",
      "Epoch 13/100\n",
      "84/84 [==============================] - 0s 6ms/step - loss: 0.0227\n",
      "Epoch 14/100\n",
      "84/84 [==============================] - 0s 6ms/step - loss: 0.0203\n",
      "Epoch 15/100\n",
      "84/84 [==============================] - 1s 6ms/step - loss: 0.0190\n",
      "Epoch 16/100\n",
      "84/84 [==============================] - 1s 7ms/step - loss: 0.0195\n",
      "Epoch 17/100\n",
      "84/84 [==============================] - 1s 7ms/step - loss: 0.0186\n",
      "Epoch 18/100\n",
      "84/84 [==============================] - 0s 6ms/step - loss: 0.0189\n",
      "Epoch 19/100\n",
      "84/84 [==============================] - 1s 6ms/step - loss: 0.0184\n",
      "Epoch 20/100\n",
      "84/84 [==============================] - 1s 7ms/step - loss: 0.0174\n",
      "Epoch 21/100\n",
      "84/84 [==============================] - 1s 6ms/step - loss: 0.0167\n",
      "Epoch 22/100\n",
      "84/84 [==============================] - 1s 7ms/step - loss: 0.0180\n",
      "Epoch 23/100\n",
      "84/84 [==============================] - 1s 6ms/step - loss: 0.0168\n",
      "Epoch 24/100\n",
      "84/84 [==============================] - 1s 6ms/step - loss: 0.0171\n",
      "Epoch 25/100\n",
      "84/84 [==============================] - 1s 7ms/step - loss: 0.0158\n",
      "Epoch 26/100\n",
      "84/84 [==============================] - 1s 6ms/step - loss: 0.0163\n",
      "Epoch 27/100\n",
      "84/84 [==============================] - 1s 6ms/step - loss: 0.0153\n",
      "Epoch 28/100\n",
      "84/84 [==============================] - 0s 6ms/step - loss: 0.0155\n",
      "Epoch 29/100\n",
      "84/84 [==============================] - 1s 6ms/step - loss: 0.0142\n",
      "Epoch 30/100\n",
      "84/84 [==============================] - 1s 7ms/step - loss: 0.0155\n",
      "Epoch 31/100\n",
      "84/84 [==============================] - 1s 6ms/step - loss: 0.0151\n",
      "Epoch 32/100\n",
      "84/84 [==============================] - 1s 7ms/step - loss: 0.0142\n",
      "Epoch 33/100\n",
      "84/84 [==============================] - 0s 6ms/step - loss: 0.0144\n",
      "Epoch 34/100\n",
      "84/84 [==============================] - 1s 6ms/step - loss: 0.0145\n",
      "Epoch 35/100\n",
      "84/84 [==============================] - 1s 6ms/step - loss: 0.0136\n",
      "Epoch 36/100\n",
      "84/84 [==============================] - 0s 6ms/step - loss: 0.0132\n",
      "Epoch 37/100\n",
      "84/84 [==============================] - 0s 6ms/step - loss: 0.0132\n",
      "Epoch 38/100\n",
      "84/84 [==============================] - 0s 6ms/step - loss: 0.0134\n",
      "Epoch 39/100\n",
      "84/84 [==============================] - 0s 6ms/step - loss: 0.0128\n",
      "Epoch 40/100\n",
      "84/84 [==============================] - 0s 5ms/step - loss: 0.0137\n",
      "Epoch 41/100\n",
      "84/84 [==============================] - 0s 6ms/step - loss: 0.0125\n",
      "Epoch 42/100\n",
      "84/84 [==============================] - 1s 6ms/step - loss: 0.0122\n",
      "Epoch 43/100\n",
      "84/84 [==============================] - 0s 6ms/step - loss: 0.0122\n",
      "Epoch 44/100\n",
      "84/84 [==============================] - 0s 6ms/step - loss: 0.0130\n",
      "Epoch 45/100\n",
      "84/84 [==============================] - 0s 6ms/step - loss: 0.0114\n",
      "Epoch 46/100\n",
      "84/84 [==============================] - 0s 6ms/step - loss: 0.0117\n",
      "Epoch 47/100\n",
      "84/84 [==============================] - 1s 6ms/step - loss: 0.0114\n",
      "Epoch 48/100\n",
      "84/84 [==============================] - 0s 6ms/step - loss: 0.0115\n",
      "Epoch 49/100\n",
      "84/84 [==============================] - 1s 7ms/step - loss: 0.0114\n",
      "Epoch 50/100\n",
      "84/84 [==============================] - 1s 7ms/step - loss: 0.0110\n",
      "Epoch 51/100\n",
      "84/84 [==============================] - 1s 6ms/step - loss: 0.0109\n",
      "Epoch 52/100\n",
      "84/84 [==============================] - 1s 8ms/step - loss: 0.0109\n",
      "Epoch 53/100\n",
      "84/84 [==============================] - 1s 6ms/step - loss: 0.0106\n",
      "Epoch 54/100\n",
      "84/84 [==============================] - 1s 6ms/step - loss: 0.0105\n",
      "Epoch 55/100\n",
      "84/84 [==============================] - 0s 5ms/step - loss: 0.0102\n",
      "Epoch 56/100\n",
      "84/84 [==============================] - 0s 6ms/step - loss: 0.0099\n",
      "Epoch 57/100\n",
      "84/84 [==============================] - 1s 6ms/step - loss: 0.0101\n",
      "Epoch 58/100\n",
      "84/84 [==============================] - 0s 6ms/step - loss: 0.0098\n",
      "Epoch 59/100\n",
      "84/84 [==============================] - 1s 7ms/step - loss: 0.0095\n",
      "Epoch 60/100\n",
      "84/84 [==============================] - 0s 5ms/step - loss: 0.0099\n",
      "Epoch 61/100\n",
      "84/84 [==============================] - 0s 6ms/step - loss: 0.0092\n",
      "Epoch 62/100\n",
      "84/84 [==============================] - 1s 6ms/step - loss: 0.0094\n",
      "Epoch 63/100\n",
      "84/84 [==============================] - 1s 6ms/step - loss: 0.0089\n",
      "Epoch 64/100\n",
      "84/84 [==============================] - 1s 6ms/step - loss: 0.0094\n",
      "Epoch 65/100\n",
      "84/84 [==============================] - 1s 6ms/step - loss: 0.0085\n",
      "Epoch 66/100\n",
      "84/84 [==============================] - 1s 6ms/step - loss: 0.0085\n",
      "Epoch 67/100\n",
      "84/84 [==============================] - 1s 6ms/step - loss: 0.0081\n",
      "Epoch 68/100\n",
      "84/84 [==============================] - 0s 6ms/step - loss: 0.0081\n",
      "Epoch 69/100\n",
      "84/84 [==============================] - 1s 6ms/step - loss: 0.0080\n",
      "Epoch 70/100\n",
      "84/84 [==============================] - 0s 6ms/step - loss: 0.0079\n",
      "Epoch 71/100\n",
      "84/84 [==============================] - 0s 6ms/step - loss: 0.0082\n",
      "Epoch 72/100\n",
      "84/84 [==============================] - 1s 6ms/step - loss: 0.0077\n",
      "Epoch 73/100\n",
      "84/84 [==============================] - 0s 5ms/step - loss: 0.0075\n",
      "Epoch 74/100\n",
      "84/84 [==============================] - 1s 6ms/step - loss: 0.0074\n",
      "Epoch 75/100\n",
      "84/84 [==============================] - 1s 6ms/step - loss: 0.0072\n",
      "Epoch 76/100\n",
      "84/84 [==============================] - 0s 6ms/step - loss: 0.0074\n",
      "Epoch 77/100\n",
      "84/84 [==============================] - 0s 6ms/step - loss: 0.0069\n",
      "Epoch 78/100\n",
      "84/84 [==============================] - 0s 6ms/step - loss: 0.0069\n",
      "Epoch 79/100\n",
      "84/84 [==============================] - 1s 6ms/step - loss: 0.0066\n",
      "Epoch 80/100\n",
      "84/84 [==============================] - 1s 6ms/step - loss: 0.0068\n",
      "Epoch 81/100\n",
      "84/84 [==============================] - 0s 6ms/step - loss: 0.0066\n",
      "Epoch 82/100\n",
      "84/84 [==============================] - 0s 6ms/step - loss: 0.0064\n",
      "Epoch 83/100\n",
      "84/84 [==============================] - 0s 6ms/step - loss: 0.0066\n",
      "Epoch 84/100\n",
      "84/84 [==============================] - 0s 6ms/step - loss: 0.0064\n",
      "Epoch 85/100\n",
      "84/84 [==============================] - 0s 6ms/step - loss: 0.0063\n",
      "Epoch 86/100\n",
      "84/84 [==============================] - 1s 6ms/step - loss: 0.0062\n",
      "Epoch 87/100\n",
      "84/84 [==============================] - 1s 6ms/step - loss: 0.0062\n",
      "Epoch 88/100\n",
      "84/84 [==============================] - 0s 5ms/step - loss: 0.0061\n",
      "Epoch 89/100\n",
      "84/84 [==============================] - 0s 6ms/step - loss: 0.0060\n",
      "Epoch 90/100\n",
      "84/84 [==============================] - 1s 7ms/step - loss: 0.0063\n",
      "Epoch 91/100\n",
      "84/84 [==============================] - 0s 6ms/step - loss: 0.0060\n",
      "Epoch 92/100\n",
      "84/84 [==============================] - 1s 6ms/step - loss: 0.0058\n",
      "Epoch 93/100\n",
      "84/84 [==============================] - 0s 6ms/step - loss: 0.0059\n",
      "Epoch 94/100\n",
      "84/84 [==============================] - 0s 6ms/step - loss: 0.0061\n",
      "Epoch 95/100\n",
      "84/84 [==============================] - 0s 6ms/step - loss: 0.0056\n",
      "Epoch 96/100\n",
      "84/84 [==============================] - 1s 6ms/step - loss: 0.0057\n",
      "Epoch 97/100\n",
      "84/84 [==============================] - 0s 6ms/step - loss: 0.0056\n",
      "Epoch 98/100\n",
      "84/84 [==============================] - 0s 5ms/step - loss: 0.0056\n",
      "Epoch 99/100\n",
      "84/84 [==============================] - 0s 6ms/step - loss: 0.0052\n",
      "Epoch 100/100\n",
      "84/84 [==============================] - 0s 6ms/step - loss: 0.0056\n"
     ]
    },
    {
     "data": {
      "text/plain": [
       "<keras.callbacks.callbacks.History at 0x17b7dfc1a48>"
      ]
     },
     "execution_count": 137,
     "metadata": {},
     "output_type": "execute_result"
    }
   ],
   "source": [
    "model = Sequential()\n",
    "model.add(SimpleRNN(4 , input_shape = (look_back , 1)))\n",
    "model.add(Dense(1))\n",
    "model.compile(loss = 'mean_squared_error' , optimizer = 'adam')\n",
    "model.fit(trainX,trainY , epochs = 100 , batch_size = 1)\n"
   ]
  },
  {
   "cell_type": "code",
   "execution_count": 138,
   "metadata": {},
   "outputs": [],
   "source": [
    "testPredict = model.predict(testX)"
   ]
  },
  {
   "cell_type": "code",
   "execution_count": 139,
   "metadata": {},
   "outputs": [],
   "source": [
    "testPredict = scaler.inverse_transform(testPredict).ravel()\n",
    "testPredict.shape\n",
    "\n",
    "trainPredict = model.predict(trainX)\n",
    "trainPredict = scaler.inverse_transform(trainPredict).ravel()"
   ]
  },
  {
   "cell_type": "code",
   "execution_count": 140,
   "metadata": {},
   "outputs": [],
   "source": [
    "testTrue = scaler.inverse_transform([testY]).ravel()\n",
    "testTrue.shape\n",
    "\n",
    "trainTrue = scaler.inverse_transform([trainY]).ravel()\n"
   ]
  },
  {
   "cell_type": "code",
   "execution_count": 61,
   "metadata": {},
   "outputs": [],
   "source": [
    "import matplotlib.pyplot as plt"
   ]
  },
  {
   "cell_type": "code",
   "execution_count": 143,
   "metadata": {},
   "outputs": [
    {
     "data": {
      "image/png": "[encoded data removed]",
      "text/plain": [
       "<Figure size 432x288 with 1 Axes>"
      ]
     },
     "metadata": {
      "needs_background": "light"
     },
     "output_type": "display_data"
    }
   ],
   "source": [
    "plt.plot(trainTrue , c = 'g')\n",
    "plt.plot(trainPredict , c = 'b')\n",
    "plt.show()"
   ]
  },
  {
   "cell_type": "code",
   "execution_count": 145,
   "metadata": {},
   "outputs": [],
   "source": [
    "combinedPredicted = np.concatenate((trainPredict ,testPredict))\n",
    "\n",
    "combinedTrue = np.concatenate((trainTrue , testTrue))"
   ]
  },
  {
   "cell_type": "code",
   "execution_count": 147,
   "metadata": {},
   "outputs": [
    {
     "data": {
      "image/png": "[encoded data removed]",
      "text/plain": [
       "<Figure size 432x288 with 1 Axes>"
      ]
     },
     "metadata": {
      "needs_background": "light"
     },
     "output_type": "display_data"
    }
   ],
   "source": [
    "plt.plot(combinedPredicted , c = 'y')\n",
    "plt.plot(combinedTrue , c = 'g')\n",
    "plt.show()"
   ]
  },
  {
   "cell_type": "code",
   "execution_count": null,
   "metadata": {},
   "outputs": [],
   "source": []
  }
 ],
 "metadata": {
  "kernelspec": {
   "display_name": "Python 3",
   "language": "python",
   "name": "python3"
  },
  "language_info": {
   "codemirror_mode": {
    "name": "ipython",
    "version": 3
   },
   "file_extension": ".py",
   "mimetype": "text/x-python",
   "name": "python",
   "nbconvert_exporter": "python",
   "pygments_lexer": "ipython3",
   "version": "3.7.6"
  }
 },
 "nbformat": 4,
 "nbformat_minor": 4
}
